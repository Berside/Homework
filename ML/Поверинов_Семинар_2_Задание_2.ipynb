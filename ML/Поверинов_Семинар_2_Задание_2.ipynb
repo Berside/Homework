{
  "nbformat": 4,
  "nbformat_minor": 0,
  "metadata": {
    "colab": {
      "provenance": []
    },
    "kernelspec": {
      "name": "python3",
      "display_name": "Python 3"
    },
    "language_info": {
      "name": "python"
    }
  },
  "cells": [
    {
      "cell_type": "markdown",
      "source": [
        "# Семинар №2\n",
        "## Выполнил: Поверинов И.В.\n",
        "## Группа: ИДБ-22-10\n",
        "## Задание: 2"
      ],
      "metadata": {
        "id": "l87xdg0b2Eny"
      }
    },
    {
      "cell_type": "markdown",
      "source": [
        "1. Применить методы линейной регрессии к заданию из семинара №1 (к столбцу price)"
      ],
      "metadata": {
        "id": "3n97rUwx2xFN"
      }
    },
    {
      "cell_type": "code",
      "source": [
        "import pandas as pd\n",
        "import matplotlib.pyplot as plt\n",
        "import numpy as np\n",
        "import seaborn as sns\n",
        "from sklearn.model_selection import train_test_split\n",
        "from sklearn.tree import DecisionTreeClassifier, plot_tree\n",
        "from sklearn.metrics import accuracy_score\n",
        "from sklearn.tree import DecisionTreeRegressor\n",
        "from sklearn.linear_model import LinearRegression\n",
        "from sklearn.ensemble import RandomForestRegressor\n",
        "from sklearn.metrics import mean_squared_error, r2_score\n",
        "from sklearn.model_selection import GridSearchCV\n",
        "\n",
        "data = pd.read_csv('cars.csv')\n",
        "print(data.isnull().sum())\n",
        "print(f\"\\nКоличество дубликатов: {data.duplicated().sum()}\")"
      ],
      "metadata": {
        "colab": {
          "base_uri": "https://localhost:8080/"
        },
        "id": "241JXmDM2-5x",
        "outputId": "5930cdf6-76a4-429e-dda1-938e7a6d3aa0"
      },
      "execution_count": 1,
      "outputs": [
        {
          "output_type": "stream",
          "name": "stdout",
          "text": [
            "mileage         0\n",
            "make            0\n",
            "model         143\n",
            "fuel          247\n",
            "gear          182\n",
            "offerType       0\n",
            "price        1533\n",
            "hp             29\n",
            "year            0\n",
            "dtype: int64\n",
            "\n",
            "Количество дубликатов: 2003\n"
          ]
        }
      ]
    },
    {
      "cell_type": "code",
      "source": [
        "pd.set_option('future.no_silent_downcasting', True)\n",
        "data = data.rename(columns={'offerType': 'offer_type'})\n",
        "cleanData = data.drop_duplicates()\n",
        "cleanData = cleanData.reset_index(drop = True)\n",
        "def missing_values(column):\n",
        "    dtype = column.dtype\n",
        "    if len(column) == 0:\n",
        "        return column\n",
        "    if dtype == 'object':\n",
        "        return column.fillna(column.mode().iloc[0]).infer_objects(copy=False)\n",
        "    elif pd.api.types.is_numeric_dtype(dtype):\n",
        "        return column.fillna(column.median())\n",
        "    else:\n",
        "        return column.interpolate(method='linear')\n",
        "\n",
        "\n",
        "unique_make = cleanData['make'].unique()\n",
        "maken = dict(zip(unique_make, range(len(unique_make))))\n",
        "cleanData.loc[:, 'make'] = cleanData['make'].map(maken)\n",
        "cleanData.loc[:, 'make'] = cleanData['make'].astype(int)\n",
        "\n",
        "unique_model = cleanData['model'].unique()\n",
        "modell = dict(zip(unique_model, range(len(unique_model))))\n",
        "cleanData.loc[:, 'model'] = cleanData['model'].map(modell)\n",
        "cleanData.loc[:, 'model'] = cleanData['model'].astype(int)\n",
        "\n",
        "unique_fuel = cleanData['fuel'].unique()\n",
        "fuell = dict(zip(unique_fuel, range(len(unique_fuel))))\n",
        "cleanData.loc[:, 'fuel'] = cleanData['fuel'].map(fuell)\n",
        "cleanData.loc[:, 'fuel'] = cleanData['fuel'].astype(int)\n",
        "\n",
        "unique_gear = cleanData['gear'].unique()\n",
        "gearl = dict(zip(unique_gear, range(len(unique_gear))))\n",
        "cleanData.loc[:, 'gear'] = cleanData['gear'].map(gearl)\n",
        "cleanData.loc[:, 'gear'] = cleanData['gear'].astype(int)\n",
        "\n",
        "unique_offer = cleanData['offer_type'].unique()\n",
        "offerl = dict(zip(unique_offer, range(len(unique_offer))))\n",
        "cleanData.loc[:, 'offer_type'] = cleanData['offer_type'].map(offerl)\n",
        "cleanData.loc[:, 'offer_type'] = cleanData['offer_type'].astype(int)\n",
        "\n",
        "def remove_outlier(df, column):\n",
        "    Q1 = df[column].quantile(0.25)\n",
        "    Q3 = df[column].quantile(0.75)\n",
        "    IQR = Q3 - Q1\n",
        "    return df[~((df[column] < (Q1 - 1.5 * IQR)) | (df[column] > (Q3 + 1.5 * IQR)))]\n",
        "cleanData = remove_outlier(cleanData, 'price')\n",
        "\n",
        "cleanData.loc[:, 'model'] = missing_values(cleanData.loc[:, 'model'])\n",
        "cleanData.loc[:, 'fuel'] = missing_values(cleanData.loc[:, 'fuel'])\n",
        "cleanData.loc[:, 'gear'] = missing_values(cleanData.loc[:, 'gear'])\n",
        "\n",
        "original = cleanData.copy()\n",
        "\n",
        "cleanData = cleanData.dropna(subset=['hp', 'price'])\n",
        "cleanData = cleanData.drop_duplicates()\n",
        "\n",
        "print(cleanData.isnull().sum())\n",
        "print(f\"\\nКоличество дубликатов: {cleanData.duplicated().sum()}\")\n",
        "print(cleanData.head(10))"
      ],
      "metadata": {
        "colab": {
          "base_uri": "https://localhost:8080/"
        },
        "id": "m1Af22Nv37AI",
        "outputId": "be117ae7-a1ee-4931-93b1-5f0d40707cdc"
      },
      "execution_count": 2,
      "outputs": [
        {
          "output_type": "stream",
          "name": "stdout",
          "text": [
            "mileage       0\n",
            "make          0\n",
            "model         0\n",
            "fuel          0\n",
            "gear          0\n",
            "offer_type    0\n",
            "price         0\n",
            "hp            0\n",
            "year          0\n",
            "dtype: int64\n",
            "\n",
            "Количество дубликатов: 0\n",
            "    mileage make model fuel gear offer_type   price     hp  year\n",
            "0    235000    0     0    0    0          0  6800.0  116.0  2011\n",
            "1     92800    1     1    1    0          0  6877.0  122.0  2011\n",
            "2    149300    2     2    1    0          0  6900.0  160.0  2011\n",
            "3     96200    3     3    1    0          0  6950.0  110.0  2011\n",
            "4    156000    4     4    1    0          0  6950.0  156.0  2011\n",
            "5    147000    5     5    2    1          0  6950.0   99.0  2011\n",
            "6     91894    3     6    0    0          0  6970.0  131.0  2011\n",
            "8    115000    7     8    1    1          0  6980.0  150.0  2011\n",
            "9       104    8     9    0    0          0  6990.0   86.0  2011\n",
            "10    59580    6    10    0    1          0  6990.0  101.0  2011\n"
          ]
        }
      ]
    },
    {
      "cell_type": "code",
      "source": [
        "\n",
        "cleanData['price'] = cleanData['price'].fillna(cleanData['price'].median())\n",
        "features = cleanData.drop(['price'], axis=1)\n",
        "target = cleanData['price']\n",
        "\n",
        "X_train, X_test, y_train, y_test = train_test_split(features, target, test_size=0.2, random_state=42)\n",
        "\n",
        "model = LinearRegression()\n",
        "model.fit(X_train, y_train)\n",
        "pred_lr_test = model.predict(X_test)\n",
        "pred_lr_train = model.predict(X_train)\n",
        "\n",
        "rmse_lr_test = mean_squared_error(y_test, pred_lr_test) ** 0.5\n",
        "rmse_lr_train = mean_squared_error(y_train, pred_lr_train) ** 0.5\n",
        "\n",
        "print(f\"LNR RMSE Test: {rmse_lr_test}\")\n",
        "print(f\"LNR RMSE Train: {rmse_lr_train}\")\n",
        "print(f\"LNR Difference: {abs(rmse_lr_train - rmse_lr_test)}\\n\")\n",
        "\n",
        "print(f\"Количество пропущенных значений в исходном DataFrame: {original['price'].isna().sum()}\\n\" )\n",
        "\n",
        "missing_prices = original[original['price'].isna()].index\n",
        "features_original = original.loc[missing_prices].drop(['price'], axis=1)\n",
        "features_original = features_original.fillna(features_original.mean())\n",
        "predicted_prices = model.predict(features_original)\n",
        "original.loc[missing_prices, 'price'] = predicted_prices\n",
        "\n",
        "print(f\"Количество предсказанных цен: {len(predicted_prices)}\\n\")\n",
        "print(f\"Количество предсказанных цен для оригинальных пропущенных значений: {len(missing_prices)}\\n\")\n",
        "print(\"Первые несколько предсказанных цен:\")\n",
        "for idx in missing_prices[:5]:\n",
        "    print(f\"{idx}: {original.at[idx, 'price']:.2f}\")"
      ],
      "metadata": {
        "colab": {
          "base_uri": "https://localhost:8080/"
        },
        "id": "bqNqsMZM61Md",
        "outputId": "23c605f9-b7fb-4c1b-c4f4-53a7c5e90f32"
      },
      "execution_count": 3,
      "outputs": [
        {
          "output_type": "stream",
          "name": "stdout",
          "text": [
            "LNR RMSE Test: 3282.1461467924955\n",
            "LNR RMSE Train: 3269.9306454652856\n",
            "LNR Difference: 12.21550132720995\n",
            "\n",
            "Количество пропущенных значений в исходном DataFrame: 1520\n",
            "\n",
            "Количество предсказанных цен: 1520\n",
            "\n",
            "Количество предсказанных цен для оригинальных пропущенных значений: 1520\n",
            "\n",
            "Первые несколько предсказанных цен:\n",
            "7: 4801.51\n",
            "35: 4378.97\n",
            "119: 28375.65\n",
            "137: 26307.74\n",
            "181: 31691.95\n"
          ]
        }
      ]
    }
  ]
}