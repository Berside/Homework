{
  "cells": [
    {
      "cell_type": "markdown",
      "id": "fb022379",
      "metadata": {
        "id": "fb022379"
      },
      "source": [
        "# <center>Семинар №1<center>\n",
        "### <left>Выполнил: Поверинов И.В.<left>\n",
        "### <left>Группа: ИДБ-22-10<left>"
      ]
    },
    {
      "cell_type": "markdown",
      "id": "010744a6",
      "metadata": {
        "id": "010744a6"
      },
      "source": [
        "Вам представлен датасет cars.csv с объявлениями о продаже в Германии на 2022 год. Необходимо осмотреть первично данные и выполнить их предобработку, также сделать соответствующие выводы по полученной информации"
      ]
    },
    {
      "cell_type": "markdown",
      "id": "ed70e594",
      "metadata": {
        "id": "ed70e594"
      },
      "source": [
        "### Обзор данных"
      ]
    },
    {
      "cell_type": "markdown",
      "id": "9d7fd2ab",
      "metadata": {
        "id": "9d7fd2ab"
      },
      "source": [
        "* `mileage` — Пройденное расстояние на автомобиле\n",
        "* `make` — Марка автомобиля\n",
        "* `model` — Модель автомобиля\n",
        "* `fuel` — Тип топлива\n",
        "* `gear` — Тип коробки передач\n",
        "* `offerType` — Тип предложения, то есть «Новые», «Демонстрационные» машины и т.д.\n",
        "* `price` — Цена продажи автомобиля в объявлении (в долларах)\n",
        "* `hp` — Количество лошадиных сил\n",
        "* `year` — Год производства автомобиля"
      ]
    },
    {
      "cell_type": "markdown",
      "id": "b515fc24",
      "metadata": {
        "id": "b515fc24"
      },
      "source": [
        "Импортируйте необходимые библиотеки"
      ]
    },
    {
      "cell_type": "code",
      "execution_count": 1,
      "id": "414df48c",
      "metadata": {
        "id": "414df48c"
      },
      "outputs": [],
      "source": [
        "import pandas as pd"
      ]
    },
    {
      "cell_type": "markdown",
      "id": "bf6bbc88",
      "metadata": {
        "id": "bf6bbc88"
      },
      "source": [
        "### Загрузка данных"
      ]
    },
    {
      "cell_type": "markdown",
      "id": "62897a44",
      "metadata": {
        "id": "62897a44"
      },
      "source": [
        "1. Загрузите необходимый датасет в переменную"
      ]
    },
    {
      "cell_type": "code",
      "execution_count": 2,
      "id": "18a0d110",
      "metadata": {
        "id": "18a0d110"
      },
      "outputs": [],
      "source": [
        "data = pd.read_csv('cars.csv')"
      ]
    },
    {
      "cell_type": "markdown",
      "id": "59248a9b",
      "metadata": {
        "id": "59248a9b"
      },
      "source": [
        "2. Проведите первичный осмотр данных при помощи известных вам методов(дополнительно можно использовать метод hist() для оценки распределений). Сделайте соответствующие выводы на основе полученной информации"
      ]
    },
    {
      "cell_type": "code",
      "execution_count": 3,
      "id": "2405c119",
      "metadata": {
        "scrolled": true,
        "colab": {
          "base_uri": "https://localhost:8080/"
        },
        "id": "2405c119",
        "outputId": "be7dcd7d-524b-468d-aafb-1f9eeb17da68"
      },
      "outputs": [
        {
          "output_type": "stream",
          "name": "stdout",
          "text": [
            "<class 'pandas.core.frame.DataFrame'>\n",
            "RangeIndex: 46405 entries, 0 to 46404\n",
            "Data columns (total 9 columns):\n",
            " #   Column     Non-Null Count  Dtype  \n",
            "---  ------     --------------  -----  \n",
            " 0   mileage    46405 non-null  int64  \n",
            " 1   make       46405 non-null  object \n",
            " 2   model      46262 non-null  object \n",
            " 3   fuel       46158 non-null  object \n",
            " 4   gear       46223 non-null  object \n",
            " 5   offerType  46405 non-null  object \n",
            " 6   price      44872 non-null  float64\n",
            " 7   hp         46376 non-null  float64\n",
            " 8   year       46405 non-null  int64  \n",
            "dtypes: float64(2), int64(2), object(5)\n",
            "memory usage: 3.2+ MB\n",
            "None\n"
          ]
        }
      ],
      "source": [
        "# print(data.head())\n",
        "# print(data.tail(10))\n",
        "print(data.info())\n",
        "#print(data.describe())\n",
        "#print(data.hist())\n",
        "#print(data.columns)"
      ]
    },
    {
      "cell_type": "markdown",
      "source": [
        "Выводы:\n",
        "*   В датафрейме 9 столбцов\n",
        "*   пять из них имеют тип object (аналогия string из Python)\n",
        "*   два столбца имеют тип Float64\n",
        "*   еще два столбца имеют тип Int64\n",
        "*   обьем занимаемый датафреймом 3.2+ MB\n",
        "*   всего в датафрейме 46405 строк\n",
        "*   в столбцах model, fuel, gear, price и hp есть пропуски\n"
      ],
      "metadata": {
        "id": "gt0VJow8Okpn"
      },
      "id": "gt0VJow8Okpn"
    },
    {
      "cell_type": "markdown",
      "id": "338de16b",
      "metadata": {
        "id": "338de16b"
      },
      "source": [
        "3. Переименуйте столбец `offerType` под стандартное название"
      ]
    },
    {
      "cell_type": "code",
      "execution_count": 4,
      "id": "2789eee4",
      "metadata": {
        "colab": {
          "base_uri": "https://localhost:8080/"
        },
        "id": "2789eee4",
        "outputId": "21f99e3c-790e-4f89-f1c8-020d142c9708"
      },
      "outputs": [
        {
          "output_type": "stream",
          "name": "stdout",
          "text": [
            "Index(['mileage', 'make', 'model', 'fuel', 'gear', 'offer_type', 'price', 'hp',\n",
            "       'year'],\n",
            "      dtype='object')\n"
          ]
        }
      ],
      "source": [
        "data = data.rename(columns={'offerType': 'offer_type'})\n",
        "print(data.columns)"
      ]
    },
    {
      "cell_type": "markdown",
      "id": "c2233e92",
      "metadata": {
        "id": "c2233e92"
      },
      "source": [
        "### Работа с дубликатами данных"
      ]
    },
    {
      "cell_type": "markdown",
      "id": "e000dc9b",
      "metadata": {
        "id": "e000dc9b"
      },
      "source": [
        "4. Необходимо вывести на экран количество дублированных строк в данных, если таковые имеются, а также избавиться от них. Не забудьте сбросить индекс в датафрейме при необходимости."
      ]
    },
    {
      "cell_type": "code",
      "execution_count": 5,
      "id": "3af3f27b",
      "metadata": {
        "colab": {
          "base_uri": "https://localhost:8080/"
        },
        "id": "3af3f27b",
        "outputId": "80601838-184a-417c-8420-181fa75534a0"
      },
      "outputs": [
        {
          "output_type": "stream",
          "name": "stdout",
          "text": [
            "Количество дубликатов: 2003 \n",
            "   mileage        make   model      fuel    gear offer_type   price     hp  \\\n",
            "0   235000         BMW     316    Diesel  Manual       Used  6800.0  116.0   \n",
            "1    92800  Volkswagen    Golf  Gasoline  Manual       Used  6877.0  122.0   \n",
            "2   149300        SEAT    Exeo  Gasoline  Manual       Used  6900.0  160.0   \n",
            "3    96200     Renault  Megane  Gasoline  Manual       Used  6950.0  110.0   \n",
            "4   156000     Peugeot     308  Gasoline  Manual       Used  6950.0  156.0   \n",
            "\n",
            "   year  \n",
            "0  2011  \n",
            "1  2011  \n",
            "2  2011  \n",
            "3  2011  \n",
            "4  2011  \n",
            "Количество дубликатов: 0\n"
          ]
        }
      ],
      "source": [
        "\n",
        "print(f\"Количество дубликатов: {data.duplicated().sum()} \")\n",
        "cleanData = data.drop_duplicates()\n",
        "cleanData = cleanData.reset_index(drop = True)\n",
        "print(cleanData.head())\n",
        "print(f\"Количество дубликатов: {cleanData.duplicated().sum()}\")\n"
      ]
    },
    {
      "cell_type": "markdown",
      "id": "755d8add",
      "metadata": {
        "id": "755d8add"
      },
      "source": [
        "### Работа с пропусками"
      ]
    },
    {
      "cell_type": "markdown",
      "id": "af8f2cd8",
      "metadata": {
        "id": "af8f2cd8"
      },
      "source": [
        "5. Выведите на экран количество пропусков в каждом столбце, опишите их, почему они могут возникнуть и как их возможно исправить"
      ]
    },
    {
      "cell_type": "code",
      "execution_count": 6,
      "id": "ac4e9021",
      "metadata": {
        "colab": {
          "base_uri": "https://localhost:8080/"
        },
        "id": "ac4e9021",
        "outputId": "889906d1-d86f-429e-e9cf-62ac8902ea24"
      },
      "outputs": [
        {
          "output_type": "stream",
          "name": "stdout",
          "text": [
            "mileage          0\n",
            "make             0\n",
            "model          137\n",
            "fuel           247\n",
            "gear           175\n",
            "offer_type       0\n",
            "price         1520\n",
            "hp              24\n",
            "year             0\n",
            "dtype: int64\n"
          ]
        }
      ],
      "source": [
        "print(cleanData.isnull().sum())"
      ]
    },
    {
      "cell_type": "markdown",
      "source": [
        "Причина возникновения пропусков может быть совершенно любого характера: простые технические или случайные ошибки, неполная информация датасета и прочее ( причин много )\n",
        "\n",
        "Решить эту проблему, можно решить несколькими способами, например, вставить во все пропуски Unknown XD, а на самом деле, использование модуса, медианы или предыдущего значения (или близкого, исходя из анализа значения) помогут нам заполнить или удалить пропуски. И всегда есть М.О., которое поможет нам решить эту проблему эффективно.\n"
      ],
      "metadata": {
        "id": "8g7q5bElQBDQ"
      },
      "id": "8g7q5bElQBDQ"
    },
    {
      "cell_type": "markdown",
      "id": "cf38b8c0",
      "metadata": {
        "id": "cf38b8c0"
      },
      "source": [
        "6. Заполните пропуски в `model`,`fuel`,`gear`  \n",
        "   <i>Напоминание: пропуски нужно заполнить <b>качественно</b> (т.е. не удалить и не заполнить значением 'Unknown' все NaN)</i>"
      ]
    },
    {
      "cell_type": "code",
      "execution_count": 7,
      "id": "ee7b5b29",
      "metadata": {
        "colab": {
          "base_uri": "https://localhost:8080/"
        },
        "id": "ee7b5b29",
        "outputId": "e9dd2ba7-9ec8-4d3a-a1d6-ca58010a855a"
      },
      "outputs": [
        {
          "output_type": "stream",
          "name": "stdout",
          "text": [
            "mileage          0\n",
            "make             0\n",
            "model            0\n",
            "fuel             0\n",
            "gear             0\n",
            "offer_type       0\n",
            "price         1520\n",
            "hp              24\n",
            "year             0\n",
            "dtype: int64\n"
          ]
        }
      ],
      "source": [
        "import numpy as np\n",
        "def missing_values(column):\n",
        "    dtype = column.dtype\n",
        "    if len(column) == 0:\n",
        "        return column\n",
        "    if dtype == 'object':\n",
        "        return column.fillna(column.mode().iloc[0])\n",
        "    elif pd.api.types.is_numeric_dtype(dtype):\n",
        "        return column.fillna(column.median())\n",
        "    else:\n",
        "        return column.interpolate(method='linear')\n",
        "\n",
        "## print(cleanData['model'].value_counts())\n",
        "## print(cleanData['fuel'].value_counts())\n",
        "\n",
        "cleanData['model'] = missing_values(cleanData['model'])\n",
        "cleanData['fuel'] = missing_values(cleanData['fuel'])\n",
        "cleanData['gear'] = missing_values(cleanData['gear'])\n",
        "\n",
        "print(cleanData.isnull().sum())\n",
        "# print(cleanData.head(25))\n",
        "\n",
        "## print(cleanData['model'].value_counts())\n",
        "## print(cleanData['fuel'].value_counts()) -- для проверки появились ли новые уникалыьне значения ( не появились )"
      ]
    },
    {
      "cell_type": "markdown",
      "source": [
        "Приходится заполнять пропуски только так( метод mode()), ибо нет никакой СВЯЗИ между gear,model,fuel. Их связать можно только с price, который мы почистим только в следующем задании, и то сомнительно, ведь высокий price != АКПП, даже знание марки, коробки передач и типа топлива не даст нам информации о модели."
      ],
      "metadata": {
        "id": "_Pfi0hUlQ5ZZ"
      },
      "id": "_Pfi0hUlQ5ZZ"
    },
    {
      "cell_type": "markdown",
      "id": "34abbb3c",
      "metadata": {
        "id": "34abbb3c"
      },
      "source": [
        "7. Удалите оставшиеся пропуски в столбцах `hp` и `price`."
      ]
    },
    {
      "cell_type": "code",
      "execution_count": 8,
      "id": "1ea4fbe9",
      "metadata": {
        "id": "1ea4fbe9"
      },
      "outputs": [],
      "source": [
        "cleanData = cleanData.dropna(subset=['hp', 'price'])"
      ]
    },
    {
      "cell_type": "markdown",
      "id": "0b82e780",
      "metadata": {
        "id": "0b82e780"
      },
      "source": [
        "Проверьте, все ли пропуски точно удалились из датафрейма"
      ]
    },
    {
      "cell_type": "code",
      "execution_count": 9,
      "id": "dd60f423",
      "metadata": {
        "scrolled": true,
        "colab": {
          "base_uri": "https://localhost:8080/"
        },
        "id": "dd60f423",
        "outputId": "588afe2d-cf1d-4ad0-bbeb-45f0f3a93d33"
      },
      "outputs": [
        {
          "output_type": "stream",
          "name": "stdout",
          "text": [
            "mileage       0\n",
            "make          0\n",
            "model         0\n",
            "fuel          0\n",
            "gear          0\n",
            "offer_type    0\n",
            "price         0\n",
            "hp            0\n",
            "year          0\n",
            "dtype: int64\n"
          ]
        }
      ],
      "source": [
        "print(cleanData.isnull().sum())"
      ]
    },
    {
      "cell_type": "markdown",
      "id": "317d4936",
      "metadata": {
        "id": "317d4936"
      },
      "source": [
        "8. Оцените количество уникальных марок автомобилей (производителей) с помощью метода unique() и выведите их количество числом (пожалуйста, не считайте вручную)"
      ]
    },
    {
      "cell_type": "code",
      "execution_count": 10,
      "id": "ec24e7b9",
      "metadata": {
        "colab": {
          "base_uri": "https://localhost:8080/"
        },
        "id": "ec24e7b9",
        "outputId": "3a03d51f-1591-4302-b559-50b20c18a2c6"
      },
      "outputs": [
        {
          "output_type": "stream",
          "name": "stdout",
          "text": [
            "76\n"
          ]
        }
      ],
      "source": [
        "uniqueModel = cleanData['make'].unique()\n",
        "print(len(uniqueModel))"
      ]
    },
    {
      "cell_type": "markdown",
      "id": "99d2f0d7",
      "metadata": {
        "id": "99d2f0d7"
      },
      "source": [
        "9. Выведите топ 20 марок автомобилей (производителей) по количеству объявлений с помощью метода value_counts()"
      ]
    },
    {
      "cell_type": "code",
      "execution_count": 11,
      "id": "0dcb3891",
      "metadata": {
        "colab": {
          "base_uri": "https://localhost:8080/"
        },
        "id": "0dcb3891",
        "outputId": "7d14dc59-cce8-445c-b646-cacdf4d7f00b"
      },
      "outputs": [
        {
          "output_type": "stream",
          "name": "stdout",
          "text": [
            "make\n",
            "Volkswagen       6510\n",
            "Opel             4455\n",
            "Ford             4114\n",
            "Skoda            2665\n",
            "Renault          2610\n",
            "Audi             2479\n",
            "BMW              2296\n",
            "Mercedes-Benz    2217\n",
            "SEAT             1773\n",
            "Hyundai          1688\n",
            "Fiat             1435\n",
            "Peugeot          1136\n",
            "Toyota           1106\n",
            "Kia               937\n",
            "smart             907\n",
            "Citroen           888\n",
            "Volvo             745\n",
            "Nissan            705\n",
            "Mazda             677\n",
            "Dacia             630\n",
            "Name: count, dtype: int64\n"
          ]
        }
      ],
      "source": [
        "print(cleanData['make'].value_counts().head(20))"
      ]
    },
    {
      "cell_type": "markdown",
      "id": "12a24658",
      "metadata": {
        "id": "12a24658"
      },
      "source": [
        "### Группировка данных"
      ]
    },
    {
      "cell_type": "markdown",
      "id": "dd49bf38",
      "metadata": {
        "id": "dd49bf38"
      },
      "source": [
        "10. Сгруппируйте данные по столбцу `make`, выведите для каждого производителя среднюю стоимость их автомобиля, а также среднее число лошадиных сил и отсортируйте по убыванию столбца `price`. Отобразите только топ 20 самых дорогих производителей. Напишите вывод, всё ли в порядке с полученными данными или Вас что-то смущает"
      ]
    },
    {
      "cell_type": "code",
      "execution_count": 12,
      "id": "0f3c7394",
      "metadata": {
        "colab": {
          "base_uri": "https://localhost:8080/"
        },
        "id": "0f3c7394",
        "outputId": "1a983034-43fd-43b5-abbd-ce1c6103137c"
      },
      "outputs": [
        {
          "output_type": "stream",
          "name": "stdout",
          "text": [
            "                     price          hp\n",
            "make                                  \n",
            "Maybach      450479.333333  543.000000\n",
            "Ferrari      324028.181818  693.909091\n",
            "Lamborghini  305698.777778  690.111111\n",
            "McLaren      212474.000000  654.300000\n",
            "Rolls-Royce  194900.000000  591.500000\n",
            "Bentley      192123.307692  546.615385\n",
            "Aston        163442.960000  536.200000\n",
            "Corvette     110160.000000  687.000000\n",
            "Porsche       89858.615044  412.340708\n",
            "FISKER        69900.000000  408.000000\n",
            "Maserati      69118.818182  376.363636\n",
            "Alpina        66046.300000  443.000000\n",
            "Polestar      64150.000000  408.000000\n",
            "Tesla         62866.681818  490.500000\n",
            "Morgan        61950.000000  177.000000\n",
            "Alpine        53783.000000  244.800000\n",
            "Land          51287.433121  246.070064\n",
            "RAM           47945.000000  401.000000\n",
            "Cadillac      45032.142857  348.285714\n",
            "Dodge         44968.818182  395.636364\n"
          ]
        }
      ],
      "source": [
        "groupedData = cleanData.groupby('make')\n",
        "result = groupedData.agg({'price': 'mean','hp': 'mean'})\n",
        "top = result.sort_values('price', ascending=False).head(20)\n",
        "print(top)"
      ]
    },
    {
      "cell_type": "markdown",
      "source": [
        "Разница между первым из топа и последним слишком большая, это меня и смущает, похоже на неполный датасет.\n",
        "\n",
        "У феррари слишком большой показать hp, хм....\n",
        "\n",
        "Но если закрыть на это глаза, вроде бы все в порядке."
      ],
      "metadata": {
        "id": "MC9H--ctRVVO"
      },
      "id": "MC9H--ctRVVO"
    },
    {
      "cell_type": "markdown",
      "id": "ff63ebaf",
      "metadata": {
        "id": "ff63ebaf"
      },
      "source": [
        "11. Создайте новый столбец из `make` и `model` и выведите топ 10 самый дорогих и дешевых автомобилей с помощью средней стоимости"
      ]
    },
    {
      "cell_type": "code",
      "execution_count": 13,
      "id": "3c78b550",
      "metadata": {
        "scrolled": true,
        "colab": {
          "base_uri": "https://localhost:8080/"
        },
        "id": "3c78b550",
        "outputId": "4a5d2bf6-4884-442a-faa1-2f4fd3e395cf"
      },
      "outputs": [
        {
          "output_type": "stream",
          "name": "stdout",
          "text": [
            "Топ 10 самых дорогих автомобилей:\n",
            "rich\n",
            "Ferrari F12              1199900.00\n",
            "Mercedes-Benz S 650       717078.00\n",
            "Maybach Pullman           608439.00\n",
            "Ferrari 812               439900.00\n",
            "Aston Martin              398000.00\n",
            "Lamborghini Aventador     371423.17\n",
            "McLaren 675LT             297900.00\n",
            "Ferrari F8 Tributo        294416.67\n",
            "Bentley Flying Spur       251560.00\n",
            "McLaren 720S              251145.00\n",
            "Name: price, dtype: object\n",
            "\n",
            "Топ 10 самых дешевых автомобилей:\n",
            "rich\n",
            "Lada Priora              1190.00\n",
            "Brilliance BS4           1500.00\n",
            "SEAT Panda               1650.00\n",
            "Others Landwind          1850.00\n",
            "Volvo Golf               2499.00\n",
            "Trailer-Anhänger Golf    2750.00\n",
            "Hyundai Getz             2800.00\n",
            "Volkswagen Fox           3011.18\n",
            "Peugeot 206              3363.00\n",
            "Fiat Linea               3400.00\n",
            "Name: price, dtype: object\n"
          ]
        }
      ],
      "source": [
        "cleanData.loc[:, 'rich'] = cleanData['make'].astype(str) + ' ' + cleanData['model'].astype(str)\n",
        "\n",
        "average = cleanData.groupby('rich')['price'].mean()\n",
        "top = average.nlargest(10)\n",
        "bottom = average.nsmallest(10)\n",
        "\n",
        "def format(num):\n",
        "    return f\"{num:.2f}\"\n",
        "\n",
        "Ftop = top.apply(lambda x: format(x))\n",
        "Fbottom = bottom.apply(lambda x: format(x))\n",
        "\n",
        "print(\"Топ 10 самых дорогих автомобилей:\")\n",
        "print(Ftop)\n",
        "print(\"\\nТоп 10 самых дешевых автомобилей:\")\n",
        "print(Fbottom)\n"
      ]
    },
    {
      "cell_type": "markdown",
      "id": "3a22e922",
      "metadata": {
        "id": "3a22e922"
      },
      "source": [
        "12. Сделайте общий вывод о проделанной работе"
      ]
    },
    {
      "cell_type": "markdown",
      "source": [
        "Вывод о работе:\n",
        "*   проанализировали датасет cars.csv\n",
        "*   посмотрели и почистили дубликаты\n",
        "*   посмотрели пропуски и попытались их устранить\n",
        "*   поработали с данными, и проанализировали их с помощью группировки\n",
        "\n",
        "Также столкнулись с интересным заданием: \"Качественно заполнить пропуски\". В котором приходилось заполнять пропуски моделей, топлива и коробки передач Автомобилей.\n",
        "\n",
        "P.S. Оказывается марка автомобиля others – это не “какие-то еще” марки, а реальные марки корейских авто)))\n"
      ],
      "metadata": {
        "id": "JqyM1zRyohtL"
      },
      "id": "JqyM1zRyohtL"
    }
  ],
  "metadata": {
    "kernelspec": {
      "display_name": "Python 3 (ipykernel)",
      "language": "python",
      "name": "python3"
    },
    "language_info": {
      "codemirror_mode": {
        "name": "ipython",
        "version": 3
      },
      "file_extension": ".py",
      "mimetype": "text/x-python",
      "name": "python",
      "nbconvert_exporter": "python",
      "pygments_lexer": "ipython3",
      "version": "3.12.5"
    },
    "colab": {
      "provenance": []
    }
  },
  "nbformat": 4,
  "nbformat_minor": 5
}